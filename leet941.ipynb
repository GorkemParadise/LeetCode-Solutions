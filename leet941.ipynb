{
 "cells": [
  {
   "cell_type": "code",
   "execution_count": 1,
   "metadata": {},
   "outputs": [],
   "source": [
    "class Solution:\n",
    "    def validMountainArray(self,arr):\n",
    "        n = len(arr)\n",
    "        if n < 3:\n",
    "            return False\n",
    "\n",
    "        i = 0\n",
    "        # climb up\n",
    "        while i + 1 < n and arr[i] < arr[i + 1]:\n",
    "            i += 1\n",
    "\n",
    "        # peak can't be first or last\n",
    "        if i == 0 or i == n - 1:\n",
    "            return False\n",
    "\n",
    "        # climb down\n",
    "        while i + 1 < n and arr[i] > arr[i + 1]:\n",
    "            i += 1\n",
    "\n",
    "        return i == n - 1\n",
    "        "
   ]
  }
 ],
 "metadata": {
  "kernelspec": {
   "display_name": "Python 3",
   "language": "python",
   "name": "python3"
  },
  "language_info": {
   "codemirror_mode": {
    "name": "ipython",
    "version": 3
   },
   "file_extension": ".py",
   "mimetype": "text/x-python",
   "name": "python",
   "nbconvert_exporter": "python",
   "pygments_lexer": "ipython3",
   "version": "3.13.5"
  }
 },
 "nbformat": 4,
 "nbformat_minor": 2
}
