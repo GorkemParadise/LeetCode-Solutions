{
 "cells": [
  {
   "cell_type": "code",
   "execution_count": 1,
   "metadata": {},
   "outputs": [],
   "source": [
    "class Solution:\n",
    "    def findClosestNumber(self, nums):\n",
    "        closest = nums[0]\n",
    "        for x in nums:\n",
    "            if abs(x) < abs(closest):\n",
    "                closest = x\n",
    "\n",
    "        if closest < 0 and abs(closest) in nums:\n",
    "            return abs(closest)\n",
    "        else:\n",
    "            return closest"
   ]
  }
 ],
 "metadata": {
  "kernelspec": {
   "display_name": "Python 3",
   "language": "python",
   "name": "python3"
  },
  "language_info": {
   "codemirror_mode": {
    "name": "ipython",
    "version": 3
   },
   "file_extension": ".py",
   "mimetype": "text/x-python",
   "name": "python",
   "nbconvert_exporter": "python",
   "pygments_lexer": "ipython3",
   "version": "3.13.5"
  }
 },
 "nbformat": 4,
 "nbformat_minor": 2
}
