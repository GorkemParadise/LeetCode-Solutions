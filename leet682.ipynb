{
 "cells": [
  {
   "cell_type": "code",
   "execution_count": 1,
   "metadata": {},
   "outputs": [
    {
     "data": {
      "text/plain": [
       "__main__.Solution"
      ]
     },
     "execution_count": 1,
     "metadata": {},
     "output_type": "execute_result"
    }
   ],
   "source": [
    "class Solution:\n",
    "    def calPoints(self, ops):\n",
    "        stack = []\n",
    "        for op in ops:\n",
    "            if op == \"C\":\n",
    "                stack.pop()\n",
    "            elif op == \"D\":\n",
    "                stack.append(2*stack[-1])\n",
    "            elif op == \"+\":\n",
    "                stack.append(stack[-1] + stack[2])\n",
    "            else:\n",
    "                stack.append(int(op))\n",
    "            return sum(stack)\n",
    "\n",
    "Solution"
   ]
  }
 ],
 "metadata": {
  "kernelspec": {
   "display_name": "Python 3",
   "language": "python",
   "name": "python3"
  },
  "language_info": {
   "codemirror_mode": {
    "name": "ipython",
    "version": 3
   },
   "file_extension": ".py",
   "mimetype": "text/x-python",
   "name": "python",
   "nbconvert_exporter": "python",
   "pygments_lexer": "ipython3",
   "version": "3.13.5"
  }
 },
 "nbformat": 4,
 "nbformat_minor": 2
}
