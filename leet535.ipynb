{
 "cells": [
  {
   "cell_type": "code",
   "execution_count": 1,
   "metadata": {},
   "outputs": [],
   "source": [
    "def __init__(self):\n",
    "        self.encodingMap = {}\n",
    "        self.decodingMap = {}\n",
    "        self.baseUrl = \"https://tinyurl.com/\"\n",
    "\n",
    "def encode(self, longUrl: str) -> str:\n",
    "        if longUrl not in self.encodingMap:\n",
    "            shortUrl = self.baseUrl + str(len(self.encodingMap) + 1)\n",
    "            self.encodingMap[longUrl] = shortUrl\n",
    "            self.decodingMap[shortUrl] = longUrl\n",
    "        return self.encodingMap[longUrl]\n",
    "        \n",
    "\n",
    "def decode(self, shortUrl: str) -> str:\n",
    "        return self.decodingMap[shortUrl]"
   ]
  }
 ],
 "metadata": {
  "kernelspec": {
   "display_name": "Python 3",
   "language": "python",
   "name": "python3"
  },
  "language_info": {
   "codemirror_mode": {
    "name": "ipython",
    "version": 3
   },
   "file_extension": ".py",
   "mimetype": "text/x-python",
   "name": "python",
   "nbconvert_exporter": "python",
   "pygments_lexer": "ipython3",
   "version": "3.13.5"
  }
 },
 "nbformat": 4,
 "nbformat_minor": 2
}
