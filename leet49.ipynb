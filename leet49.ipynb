{
 "cells": [
  {
   "cell_type": "code",
   "execution_count": 1,
   "metadata": {},
   "outputs": [],
   "source": [
    "class Solution:\n",
    "    def groupAnagrams(self, strs: str) -> str:\n",
    "        groups = {}  # aynı harfleri taşıyan kelimeleri gruplamak için sözlük\n",
    "\n",
    "        for word in strs:\n",
    "            # kelimenin harflerini sırala -> aynı harfli kelimeler aynı \"anahtar\" olur\n",
    "            key = ''.join(sorted(word))\n",
    "\n",
    "            # sözlükte bu anahtar yoksa ekle\n",
    "            if key not in groups:\n",
    "                groups[key] = []\n",
    "\n",
    "            # kelimeyi ilgili gruba ekle\n",
    "            groups[key].append(word)\n",
    "\n",
    "        # grupları liste olarak döndür\n",
    "        return list(groups.values())"
   ]
  }
 ],
 "metadata": {
  "kernelspec": {
   "display_name": "Python 3",
   "language": "python",
   "name": "python3"
  },
  "language_info": {
   "codemirror_mode": {
    "name": "ipython",
    "version": 3
   },
   "file_extension": ".py",
   "mimetype": "text/x-python",
   "name": "python",
   "nbconvert_exporter": "python",
   "pygments_lexer": "ipython3",
   "version": "3.13.5"
  }
 },
 "nbformat": 4,
 "nbformat_minor": 2
}
