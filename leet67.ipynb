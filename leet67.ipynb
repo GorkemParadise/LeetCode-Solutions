{
 "cells": [
  {
   "cell_type": "code",
   "execution_count": 1,
   "metadata": {},
   "outputs": [],
   "source": [
    "def addBinary(a: str, b: str) -> str:\n",
    "    i, j = len(a) - 1, len(b) - 1\n",
    "    carry = 0\n",
    "    result = []\n",
    "\n",
    "    while i >= 0 or j >= 0 or carry:\n",
    "        total = carry\n",
    "        if i >= 0:\n",
    "            total += int(a[i])\n",
    "            i -= 1\n",
    "        if j >= 0:\n",
    "            total += int(b[j])\n",
    "            j -= 1\n",
    "        \n",
    "        result.append(str(total % 2))\n",
    "        carry = total // 2\n",
    "\n",
    "    return ''.join(reversed(result))"
   ]
  },
  {
   "cell_type": "code",
   "execution_count": 2,
   "metadata": {},
   "outputs": [],
   "source": [
    "#Kolay Binary Çözümü"
   ]
  },
  {
   "cell_type": "code",
   "execution_count": 11,
   "metadata": {},
   "outputs": [
    {
     "name": "stdout",
     "output_type": "stream",
     "text": [
      "10101\n"
     ]
    }
   ],
   "source": [
    "def draftBinary(a: str, b: str) -> str:\n",
    "    return bin(int(a, 2) + int(b, 2))[2:]\n",
    "\n",
    "print(draftBinary(\"1010\", \"1011\"))\n"
   ]
  }
 ],
 "metadata": {
  "kernelspec": {
   "display_name": "Python 3",
   "language": "python",
   "name": "python3"
  },
  "language_info": {
   "codemirror_mode": {
    "name": "ipython",
    "version": 3
   },
   "file_extension": ".py",
   "mimetype": "text/x-python",
   "name": "python",
   "nbconvert_exporter": "python",
   "pygments_lexer": "ipython3",
   "version": "3.13.5"
  }
 },
 "nbformat": 4,
 "nbformat_minor": 2
}
