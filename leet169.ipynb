{
 "cells": [
  {
   "cell_type": "code",
   "execution_count": 4,
   "metadata": {},
   "outputs": [
    {
     "name": "stdout",
     "output_type": "stream",
     "text": [
      "3\n"
     ]
    }
   ],
   "source": [
    "nums = [2, 2, 1, 1, 3]\n",
    "\n",
    "def boyerMoore(nums):\n",
    "    result = nums[0]\n",
    "    count = 1\n",
    "    for num in nums[1:]:\n",
    "        if count == 0:\n",
    "            result = num\n",
    "        count += (1 if num == result else -1)\n",
    "    return result\n",
    "\n",
    "print(boyerMoore(nums)) "
   ]
  }
 ],
 "metadata": {
  "kernelspec": {
   "display_name": "Python 3",
   "language": "python",
   "name": "python3"
  },
  "language_info": {
   "codemirror_mode": {
    "name": "ipython",
    "version": 3
   },
   "file_extension": ".py",
   "mimetype": "text/x-python",
   "name": "python",
   "nbconvert_exporter": "python",
   "pygments_lexer": "ipython3",
   "version": "3.13.5"
  }
 },
 "nbformat": 4,
 "nbformat_minor": 2
}
