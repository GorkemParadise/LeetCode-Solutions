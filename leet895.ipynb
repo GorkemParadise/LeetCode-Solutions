{
 "cells": [
  {
   "cell_type": "code",
   "execution_count": 1,
   "metadata": {},
   "outputs": [],
   "source": [
    "#Meta Question\n",
    "class FreqStack:\n",
    "\n",
    "    def __init__(self):\n",
    "        self.countMap = {}\n",
    "        self.maxCount = 0\n",
    "        self.stackMap = {}\n",
    "        \n",
    "    def push(self, val: int) -> None:\n",
    "        newCount = 1 + self.countMap.get(val, 0)\n",
    "        self.countMap[val] = newCount\n",
    "        if newCount > self.maxCount:\n",
    "            self.maxCount = newCount\n",
    "            self.stackMap[newCount] = []\n",
    "        self.stackMap[newCount].append(val)\n",
    "\n",
    "    def pop(self) -> int:\n",
    "        valuePop = self.stackMap[self.maxCount].pop()\n",
    "        self.countMap[valuePop] -= 1\n",
    "        if not self.stackMap[self.maxCount]:\n",
    "            self.maxCount -= 1\n",
    "        return valuePop"
   ]
  }
 ],
 "metadata": {
  "kernelspec": {
   "display_name": "Python 3",
   "language": "python",
   "name": "python3"
  },
  "language_info": {
   "codemirror_mode": {
    "name": "ipython",
    "version": 3
   },
   "file_extension": ".py",
   "mimetype": "text/x-python",
   "name": "python",
   "nbconvert_exporter": "python",
   "pygments_lexer": "ipython3",
   "version": "3.13.5"
  }
 },
 "nbformat": 4,
 "nbformat_minor": 2
}
