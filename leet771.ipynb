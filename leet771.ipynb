{
 "cells": [
  {
   "cell_type": "code",
   "execution_count": 2,
   "metadata": {},
   "outputs": [],
   "source": [
    "class Solution:     #O(n)\n",
    "    def numJewelsInStones (self, jewels: str, stones: str) -> int:\n",
    "        count = 0\n",
    "        for stone in stones:\n",
    "            if stone in jewels:\n",
    "                count += 1\n",
    "        return count"
   ]
  },
  {
   "cell_type": "code",
   "execution_count": 1,
   "metadata": {},
   "outputs": [],
   "source": [
    "class Solution:     #O(1)\n",
    "    def numJewelsInStones (self, jewels: str, stones: str) -> int: \n",
    "        s = set(jewels)\n",
    "        count = 0\n",
    "        for stone in stones:\n",
    "            if stone in s:\n",
    "                count += 1\n",
    "        return count"
   ]
  }
 ],
 "metadata": {
  "kernelspec": {
   "display_name": "Python 3",
   "language": "python",
   "name": "python3"
  },
  "language_info": {
   "codemirror_mode": {
    "name": "ipython",
    "version": 3
   },
   "file_extension": ".py",
   "mimetype": "text/x-python",
   "name": "python",
   "nbconvert_exporter": "python",
   "pygments_lexer": "ipython3",
   "version": "3.13.5"
  }
 },
 "nbformat": 4,
 "nbformat_minor": 2
}
