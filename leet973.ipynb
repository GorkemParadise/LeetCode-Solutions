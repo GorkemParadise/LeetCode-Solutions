{
 "cells": [
  {
   "cell_type": "code",
   "execution_count": 9,
   "metadata": {},
   "outputs": [],
   "source": [
    "def kClosest(self, points, k):\n",
    "        minHeap = []\n",
    "        \n",
    "        for x,y in points:\n",
    "            distanceToOrigin = (x**2) + (y**2)\n",
    "            minHeap.append([distanceToOrigin,x,y])\n",
    "            \n",
    "        heapq.heapify(minHeap)\n",
    "        \n",
    "        result = []\n",
    "        \n",
    "        while k > 0:\n",
    "            distance, x, y = heapq.heappop(minHeap)\n",
    "            result.append([x,y])\n",
    "            k -= 1\n",
    "        \n",
    "        return result"
   ]
  }
 ],
 "metadata": {
  "kernelspec": {
   "display_name": "Python 3",
   "language": "python",
   "name": "python3"
  },
  "language_info": {
   "codemirror_mode": {
    "name": "ipython",
    "version": 3
   },
   "file_extension": ".py",
   "mimetype": "text/x-python",
   "name": "python",
   "nbconvert_exporter": "python",
   "pygments_lexer": "ipython3",
   "version": "3.13.5"
  }
 },
 "nbformat": 4,
 "nbformat_minor": 2
}
