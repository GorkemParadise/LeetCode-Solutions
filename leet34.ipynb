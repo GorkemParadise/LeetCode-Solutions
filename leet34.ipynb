{
 "cells": [
  {
   "cell_type": "code",
   "execution_count": 1,
   "metadata": {},
   "outputs": [],
   "source": [
    "# Meta Question\n",
    "class Solution:\n",
    "    def searchRange(self, nums):\n",
    "        def findLeft(nums, target):\n",
    "            left, right = 0, len(nums) - 1\n",
    "            index = -1\n",
    "            while left <= right:\n",
    "                mid = (left + right) // 2\n",
    "                if nums[mid] == target:\n",
    "                    index = mid\n",
    "                    right = mid - 1  # sola kaydır\n",
    "                elif nums[mid] < target:\n",
    "                    left = mid + 1\n",
    "                else:\n",
    "                    right = mid - 1\n",
    "            return index\n",
    "\n",
    "        def findRight(nums, target):\n",
    "            left, right = 0, len(nums) - 1\n",
    "            index = -1\n",
    "            while left <= right:\n",
    "                mid = (left + right) // 2\n",
    "                if nums[mid] == target:\n",
    "                    index = mid\n",
    "                    left = mid + 1  # sağa kaydır\n",
    "                elif nums[mid] < target:\n",
    "                    left = mid + 1\n",
    "                else:\n",
    "                    right = mid - 1\n",
    "            return index\n",
    "\n",
    "        return [findLeft(nums, target), findRight(nums, target)]"
   ]
  }
 ],
 "metadata": {
  "kernelspec": {
   "display_name": "Python 3",
   "language": "python",
   "name": "python3"
  },
  "language_info": {
   "codemirror_mode": {
    "name": "ipython",
    "version": 3
   },
   "file_extension": ".py",
   "mimetype": "text/x-python",
   "name": "python",
   "nbconvert_exporter": "python",
   "pygments_lexer": "ipython3",
   "version": "3.13.5"
  }
 },
 "nbformat": 4,
 "nbformat_minor": 2
}
