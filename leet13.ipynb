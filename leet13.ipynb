{
 "cells": [
  {
   "cell_type": "code",
   "execution_count": null,
   "metadata": {},
   "outputs": [],
   "source": [
    "class Solution:\n",
    "    def romanToInt(self, s: str) -> int:\n",
    "        values = {'I': 1, 'V': 5, 'X': 10, 'L': 50, 'C': 100, 'D': 500, 'M': 1000}\n",
    "        nums = []\n",
    "\n",
    "        for ch in s: # HER KARAKTERİN DEĞERİNİ LİSTEYE EKLE\n",
    "            nums.append(values[ch])\n",
    "\n",
    "        total = 0\n",
    "        \n",
    "        for i in range(len(nums) - 1):\n",
    "            if nums[i] < nums[i + 1]:\n",
    "                total -= nums[i]\n",
    "            else:\n",
    "                total += nums[i]\n",
    "\n",
    "        total += nums[-1]\n",
    "        return total\n",
    "\n",
    "        "
   ]
  }
 ],
 "metadata": {
  "kernelspec": {
   "display_name": "Python 3",
   "language": "python",
   "name": "python3"
  },
  "language_info": {
   "name": "python",
   "version": "3.13.5"
  }
 },
 "nbformat": 4,
 "nbformat_minor": 2
}
