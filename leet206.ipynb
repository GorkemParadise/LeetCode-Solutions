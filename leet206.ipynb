{
 "cells": [
  {
   "cell_type": "code",
   "execution_count": 1,
   "metadata": {},
   "outputs": [],
   "source": [
    "class ListNode:\n",
    "    def __init__(self, val=0, next=None):\n",
    "        self.val = val\n",
    "        self.next = next"
   ]
  },
  {
   "cell_type": "code",
   "execution_count": 3,
   "metadata": {},
   "outputs": [],
   "source": [
    "class Solution:\n",
    "    def reverseList(self,head):\n",
    "        list = []\n",
    "        current = head\n",
    "        while current:\n",
    "            list.append(current.val)\n",
    "            current = current.next\n",
    "\n",
    "        amount = ListNode()\n",
    "        current = amount\n",
    "        for val in reversed(list):\n",
    "            current.next = ListNode(val)\n",
    "            current = current.next\n",
    "        return amount.next"
   ]
  },
  {
   "cell_type": "code",
   "execution_count": null,
   "metadata": {},
   "outputs": [],
   "source": [
    "class Solution:\n",
    "    def reverseList(self, head):\n",
    "        prev = None\n",
    "        current = head\n",
    "        \n",
    "        while current:\n",
    "            next_node = current.next  # Sonraki node'u sakla\n",
    "            current.next = prev       # Bağlantıyı tersine çevir\n",
    "            prev = current            # Prev'i güncelle\n",
    "            current = next_node       # İlerle\n",
    "        \n",
    "        return prev  # Yeni head\n"
   ]
  }
 ],
 "metadata": {
  "kernelspec": {
   "display_name": "Python 3",
   "language": "python",
   "name": "python3"
  },
  "language_info": {
   "codemirror_mode": {
    "name": "ipython",
    "version": 3
   },
   "file_extension": ".py",
   "mimetype": "text/x-python",
   "name": "python",
   "nbconvert_exporter": "python",
   "pygments_lexer": "ipython3",
   "version": "3.13.5"
  }
 },
 "nbformat": 4,
 "nbformat_minor": 2
}
