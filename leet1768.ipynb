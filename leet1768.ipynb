{
 "cells": [
  {
   "cell_type": "code",
   "execution_count": 1,
   "metadata": {},
   "outputs": [],
   "source": [
    "class Solution:\n",
    "    def mergeAlternately(self, word1: str, word2: str) -> str:\n",
    "        A = len(word1)\n",
    "        B = len(word2)\n",
    "        a, b = 0, 0\n",
    "        s = []\n",
    "        \n",
    "        word = 1\n",
    "        while a < A and b < B:\n",
    "            if word == 1:\n",
    "                s.append(word1[a])\n",
    "                a += 1\n",
    "                word = 2\n",
    "            else:\n",
    "                s.append(word2[b])\n",
    "                b += 1\n",
    "                word = 1\n",
    "            \n",
    "        while a < A:\n",
    "            s.append(word1[a])\n",
    "            a += 1\n",
    "        while b < B:\n",
    "            s.append(word2[b])\n",
    "            b += 1\n",
    "\n",
    "        return ''.join(s)"
   ]
  }
 ],
 "metadata": {
  "kernelspec": {
   "display_name": "Python 3",
   "language": "python",
   "name": "python3"
  },
  "language_info": {
   "codemirror_mode": {
    "name": "ipython",
    "version": 3
   },
   "file_extension": ".py",
   "mimetype": "text/x-python",
   "name": "python",
   "nbconvert_exporter": "python",
   "pygments_lexer": "ipython3",
   "version": "3.13.5"
  }
 },
 "nbformat": 4,
 "nbformat_minor": 2
}
