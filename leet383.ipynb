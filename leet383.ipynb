{
 "cells": [
  {
   "cell_type": "code",
   "execution_count": 1,
   "metadata": {},
   "outputs": [],
   "source": [
    "class Solution:\n",
    "    def canConstruct(self, ransomNote: str, magazine: str) -> bool:\n",
    "        counter = {}\n",
    "        for c in magazine:\n",
    "            if c in counter:\n",
    "                counter[c] += 1\n",
    "            else:\n",
    "                counter[c] = 1\n",
    "            \n",
    "        for c in ransomNote:\n",
    "            if c not in counter:\n",
    "                return False\n",
    "            elif counter[c] == 1:\n",
    "                del counter[c]\n",
    "            else:\n",
    "                counter[c] -= 1\n",
    "            \n",
    "        return True"
   ]
  }
 ],
 "metadata": {
  "kernelspec": {
   "display_name": "Python 3",
   "language": "python",
   "name": "python3"
  },
  "language_info": {
   "codemirror_mode": {
    "name": "ipython",
    "version": 3
   },
   "file_extension": ".py",
   "mimetype": "text/x-python",
   "name": "python",
   "nbconvert_exporter": "python",
   "pygments_lexer": "ipython3",
   "version": "3.13.5"
  }
 },
 "nbformat": 4,
 "nbformat_minor": 2
}
