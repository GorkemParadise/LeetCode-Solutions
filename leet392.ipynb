{
 "cells": [
  {
   "cell_type": "code",
   "execution_count": null,
   "metadata": {},
   "outputs": [],
   "source": [
    "class Solution:\n",
    "    def isSubsequence(self, s: str, t: str) -> bool:\n",
    "        S = len(s)\n",
    "        T = len(t)\n",
    "\n",
    "        if s == '': return True\n",
    "        if S > T: return False\n",
    "\n",
    "        j = 0\n",
    "        for i in range(T):\n",
    "            if t[i] == s[j]:\n",
    "                if j == S-1:\n",
    "                    return True\n",
    "                j += 1\n",
    "\n",
    "        return False        "
   ]
  }
 ],
 "metadata": {
  "kernelspec": {
   "display_name": "Python 3",
   "language": "python",
   "name": "python3"
  },
  "language_info": {
   "name": "python",
   "version": "3.13.5"
  }
 },
 "nbformat": 4,
 "nbformat_minor": 2
}
