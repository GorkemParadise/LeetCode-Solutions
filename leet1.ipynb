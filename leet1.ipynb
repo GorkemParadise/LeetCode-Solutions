{
 "cells": [
  {
   "cell_type": "code",
   "execution_count": 3,
   "metadata": {},
   "outputs": [],
   "source": [
    "##LOOP\n",
    "nums = 2, 7, 11, 15\n",
    "target = 9\n",
    "\n",
    "def twoSum(self, nums, target):\n",
    "    for i in range (len(nums)):\n",
    "        for j in range (i+1, len(nums)):\n",
    "            if nums[i] + nums[j] == target:\n",
    "                return [i, j]"
   ]
  },
  {
   "cell_type": "code",
   "execution_count": 4,
   "metadata": {},
   "outputs": [],
   "source": [
    "##HASH MAP\n",
    "\n",
    "seen = {}\n",
    "def twoSum(self, nums, target):\n",
    "    for i, num in enumerate(nums):\n",
    "        if target - num in seen:\n",
    "            return [seen[target-num],i]\n",
    "        seen[num] = i"
   ]
  }
 ],
 "metadata": {
  "kernelspec": {
   "display_name": "Python 3",
   "language": "python",
   "name": "python3"
  },
  "language_info": {
   "codemirror_mode": {
    "name": "ipython",
    "version": 3
   },
   "file_extension": ".py",
   "mimetype": "text/x-python",
   "name": "python",
   "nbconvert_exporter": "python",
   "pygments_lexer": "ipython3",
   "version": "3.13.5"
  }
 },
 "nbformat": 4,
 "nbformat_minor": 2
}
